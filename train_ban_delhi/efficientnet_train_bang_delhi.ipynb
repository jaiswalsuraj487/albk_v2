{
 "cells": [
  {
   "cell_type": "code",
   "execution_count": 1,
   "metadata": {},
   "outputs": [],
   "source": [
    "import os\n",
    "os.environ[\"CUDA_VISIBLE_DEVICES\"] = \"2\""
   ]
  },
  {
   "cell_type": "code",
   "execution_count": 2,
   "metadata": {},
   "outputs": [],
   "source": [
    "import torch\n",
    "from torch.utils.data import DataLoader\n",
    "from sklearn.metrics import accuracy_score, precision_score, recall_score, f1_score\n",
    "import pickle\n",
    "from torch.utils.data import TensorDataset\n",
    "import torch.nn as nn\n",
    "from glob import glob\n",
    "from os.path import expanduser, join, basename, dirname\n",
    "import xarray as xr\n",
    "import numpy as np\n",
    "from tqdm import tqdm\n",
    "import pandas as pd\n",
    "import matplotlib.pyplot as plt\n",
    "from joblib import Parallel, delayed\n",
    "from itertools import product\n",
    "from torch.utils.data import TensorDataset, DataLoader\n",
    "from astra.torch.models import EfficientNetClassifier,EfficientNet_B0_Weights   \n",
    "from astra.torch.utils import train_fn\n",
    "\n",
    "import torchvision.models as models\n",
    "from astra.torch.metrics import accuracy_score, f1_score, precision_score, recall_score\n",
    "\n",
    "batch_size = 256\n",
    "num_workers = 8"
   ]
  },
  {
   "cell_type": "code",
   "execution_count": 3,
   "metadata": {},
   "outputs": [
    {
     "name": "stdout",
     "output_type": "stream",
     "text": [
      "Fold:  1\n",
      "trainloader datatype:  torch.uint8\n",
      "testloader datatype:  torch.float32\n"
     ]
    },
    {
     "name": "stderr",
     "output_type": "stream",
     "text": [
      "/home/jaiswalsuraj/miniconda3/envs/torch_gpu/lib/python3.10/site-packages/torchvision/models/_utils.py:223: UserWarning: Arguments other than a weight enum or `None` for 'weights' are deprecated since 0.13 and may be removed in the future. The current behavior is equivalent to passing `weights=EfficientNet_B0_Weights.IMAGENET1K_V1`. You can also use `weights=EfficientNet_B0_Weights.DEFAULT` to get the most up-to-date weights.\n",
      "  warnings.warn(msg)\n",
      "100%|██████████| 10/10 [00:11<00:00,  1.17s/it]\n"
     ]
    },
    {
     "name": "stdout",
     "output_type": "stream",
     "text": [
      "Train model in bang and predict in delhi for fold 1\n",
      "Accuracy: 0.9398\n",
      "Precision: 0.8819\n",
      "Recall: 0.4866\n",
      "F1 Score: 0.6272\n",
      "\n",
      "\n"
     ]
    },
    {
     "name": "stderr",
     "output_type": "stream",
     "text": [
      "Loss: 0.00015595: 100%|██████████| 100/100 [46:45<00:00, 28.05s/it]\n",
      "100%|██████████| 10/10 [00:01<00:00,  7.76it/s]\n"
     ]
    },
    {
     "name": "stdout",
     "output_type": "stream",
     "text": [
      "Train model in bang and fine tune on delhi and predict on delhi for fold 1\n",
      "Accuracy: 0.9785\n",
      "Precision: 0.9124\n",
      "Recall: 0.8774\n",
      "F1 Score: 0.8945\n",
      "\n",
      "\n",
      "Fold:  2\n",
      "trainloader datatype:  torch.uint8\n",
      "testloader datatype:  torch.float32\n"
     ]
    },
    {
     "name": "stderr",
     "output_type": "stream",
     "text": [
      "100%|██████████| 10/10 [00:01<00:00,  6.68it/s]\n"
     ]
    },
    {
     "name": "stdout",
     "output_type": "stream",
     "text": [
      "Train model in bang and predict in delhi for fold 2\n",
      "Accuracy: 0.9413\n",
      "Precision: 0.9065\n",
      "Recall: 0.4846\n",
      "F1 Score: 0.6316\n",
      "\n",
      "\n"
     ]
    },
    {
     "name": "stderr",
     "output_type": "stream",
     "text": [
      "Loss: 0.00265938: 100%|██████████| 100/100 [21:33<00:00, 12.94s/it]\n",
      "100%|██████████| 10/10 [00:03<00:00,  2.84it/s]\n"
     ]
    },
    {
     "name": "stdout",
     "output_type": "stream",
     "text": [
      "Train model in bang and fine tune on delhi and predict on delhi for fold 2\n",
      "Accuracy: 0.9781\n",
      "Precision: 0.9184\n",
      "Recall: 0.8654\n",
      "F1 Score: 0.8911\n",
      "\n",
      "\n",
      "Fold:  3\n",
      "trainloader datatype:  torch.uint8\n",
      "testloader datatype:  torch.float32\n"
     ]
    },
    {
     "name": "stderr",
     "output_type": "stream",
     "text": [
      "100%|██████████| 10/10 [00:19<00:00,  1.99s/it]\n"
     ]
    },
    {
     "name": "stdout",
     "output_type": "stream",
     "text": [
      "Train model in bang and predict in delhi for fold 3\n",
      "Accuracy: 0.9421\n",
      "Precision: 0.8859\n",
      "Recall: 0.5077\n",
      "F1 Score: 0.6455\n",
      "\n",
      "\n"
     ]
    },
    {
     "name": "stderr",
     "output_type": "stream",
     "text": [
      "Loss: 0.00036736: 100%|██████████| 100/100 [20:17<00:00, 12.17s/it]\n",
      "100%|██████████| 10/10 [00:01<00:00,  9.84it/s]\n"
     ]
    },
    {
     "name": "stdout",
     "output_type": "stream",
     "text": [
      "Train model in bang and fine tune on delhi and predict on delhi for fold 3\n",
      "Accuracy: 0.9769\n",
      "Precision: 0.8855\n",
      "Recall: 0.8923\n",
      "F1 Score: 0.8889\n",
      "\n",
      "\n",
      "Fold:  4\n",
      "trainloader datatype:  torch.uint8\n",
      "testloader datatype:  torch.float32\n"
     ]
    },
    {
     "name": "stderr",
     "output_type": "stream",
     "text": [
      "100%|██████████| 10/10 [00:00<00:00, 11.57it/s]\n"
     ]
    },
    {
     "name": "stdout",
     "output_type": "stream",
     "text": [
      "Train model in bang and predict in delhi for fold 4\n",
      "Accuracy: 0.9425\n",
      "Precision: 0.9149\n",
      "Recall: 0.4943\n",
      "F1 Score: 0.6418\n",
      "\n",
      "\n"
     ]
    },
    {
     "name": "stderr",
     "output_type": "stream",
     "text": [
      "Loss: 0.00050544: 100%|██████████| 100/100 [40:40<00:00, 24.41s/it]  \n",
      "100%|██████████| 10/10 [00:01<00:00,  7.77it/s]"
     ]
    },
    {
     "name": "stdout",
     "output_type": "stream",
     "text": [
      "Train model in bang and fine tune on delhi and predict on delhi for fold 4\n",
      "Accuracy: 0.9785\n",
      "Precision: 0.9190\n",
      "Recall: 0.8697\n",
      "F1 Score: 0.8937\n",
      "\n",
      "\n"
     ]
    },
    {
     "name": "stderr",
     "output_type": "stream",
     "text": [
      "\n"
     ]
    }
   ],
   "source": [
    "# Load the saved fold data from the .pkl file\n",
    "path = '/home/jaiswalsuraj/suraj_work/Brick-Kilns-Project/data/albk_v2_data/fold_data_delhi.pt'\n",
    "fold_data = torch.load(path)\n",
    "\n",
    "device = torch.device(\"cuda\" if torch.cuda.is_available() else \"cpu\")\n",
    "\n",
    "# save_path = \"/home/rishabh.mondal/Brick-Kilns-project/albk_rishabh/Saved_model/\"\n",
    "save_path = '/home/jaiswalsuraj/suraj_work/Brick-Kilns-Project/data/models/'\n",
    "# Lists to store metrics for each fold\n",
    "accuracy_list = []\n",
    "precision_list = []\n",
    "recall_list = []\n",
    "f1_list = []\n",
    "\n",
    "accuracy_list_train_bang_predict_delhi = []\n",
    "precision_list_train_bang_predict_delhi = []\n",
    "recall_list_train_bang_predict_delhi = []\n",
    "f1_list_train_bang_predict_delhi = []\n",
    "\n",
    "for fold_info in fold_data:\n",
    "    fold = fold_info['fold']\n",
    "    print(\"Fold: \", fold)\n",
    "    X_train = fold_info['X_train']\n",
    "    y_train = fold_info['y_train']\n",
    "    X_test = fold_info['X_test']\n",
    "    y_test = fold_info['y_test']\n",
    "    train_dataset = TensorDataset(X_train, y_train)\n",
    "    test_dataset = TensorDataset(X_test, y_test)\n",
    "\n",
    "    # Create DataLoader for training and testing\n",
    "    train_loader = DataLoader(train_dataset, batch_size=batch_size, shuffle=True)\n",
    "    test_loader = DataLoader(test_dataset, batch_size=batch_size, shuffle=False)\n",
    "    # Create and train the model\n",
    "    #print datatype of trainloader\n",
    "    print(\"trainloader datatype: \", train_loader.dataset.tensors[1].dtype)\n",
    "    print(\"testloader datatype: \", test_loader.dataset.tensors[0].dtype)\n",
    "\n",
    "    train_model = EfficientNetClassifier    (\n",
    "        models.efficientnet_b0, EfficientNet_B0_Weights, n_classes=2, activation=nn.ReLU(), dropout=0.1\n",
    "    ).to(device)\n",
    "    \n",
    "    train_model.load_state_dict(torch.load('/home/jaiswalsuraj/suraj_work/Brick-Kilns-Project/data/models/efficientnet_train_bang_fold_1.pth'))\n",
    "    # Evaluate the model on the test set\n",
    "    with torch.no_grad():\n",
    "        pred_classes = train_model.predict_class(\n",
    "            dataloader=test_loader, batch_size=batch_size, verbose=True\n",
    "        ).to(device)\n",
    "\n",
    "    test_labels = y_test.to(device)\n",
    "    # Calculate and print metrics for each fold\n",
    "    \n",
    "    accuracy = accuracy_score( pred_classes,test_labels)\n",
    "    precision = precision_score(pred_classes,test_labels)\n",
    "    recall = recall_score(pred_classes,test_labels)\n",
    "    f1 = f1_score(pred_classes,test_labels)\n",
    "\n",
    "    print(f\"Train model in bang and predict in delhi for fold {fold}\")\n",
    "    print(f\"Accuracy: {accuracy:.4f}\")\n",
    "    print(f\"Precision: {precision:.4f}\")\n",
    "    print(f\"Recall: {recall:.4f}\")\n",
    "    print(f\"F1 Score: {f1:.4f}\")\n",
    "    print(\"\\n\")\n",
    "    # Calculate and store metrics for each fold\n",
    "    accuracy_list_train_bang_predict_delhi.append(accuracy_score(pred_classes, test_labels))\n",
    "    precision_list_train_bang_predict_delhi.append(precision_score( pred_classes,test_labels))\n",
    "    recall_list_train_bang_predict_delhi.append(recall_score(pred_classes,test_labels))\n",
    "    f1_list_train_bang_predict_delhi.append(f1_score(pred_classes,test_labels))\n",
    "    \n",
    "    # Now lets fine tune the model on delhi data\n",
    "    iter_losses, epoch_losses = train_fn(\n",
    "        train_model,\n",
    "        nn.CrossEntropyLoss(),\n",
    "        dataloader=train_loader,\n",
    "        lr=3e-4,\n",
    "        epochs=100,\n",
    "        verbose=True,\n",
    "        wandb_log=False,\n",
    "    )\n",
    "    torch.save(train_model.state_dict(), save_path + f'efficientnet_train_bang_delhi_fold_{fold}.pth')\n",
    "    \n",
    "    # Evaluate the model on the test set\n",
    "    with torch.no_grad():\n",
    "        pred_classes = train_model.predict_class(\n",
    "            dataloader=test_loader, batch_size=batch_size, verbose=True\n",
    "        ).to(device)\n",
    "\n",
    "    test_labels = y_test.to(device)\n",
    "    # Calculate and print metrics for each fold\n",
    "    \n",
    "    accuracy = accuracy_score( pred_classes,test_labels)\n",
    "    precision = precision_score(pred_classes,test_labels)\n",
    "    recall = recall_score(pred_classes,test_labels)\n",
    "    f1 = f1_score(pred_classes,test_labels)\n",
    "    print(f\"Train model in bang and fine tune on delhi and predict on delhi for fold {fold}\")\n",
    "    print(f\"Accuracy: {accuracy:.4f}\")\n",
    "    print(f\"Precision: {precision:.4f}\")\n",
    "    print(f\"Recall: {recall:.4f}\")\n",
    "    print(f\"F1 Score: {f1:.4f}\")\n",
    "    print(\"\\n\")\n",
    "    # Calculate and store metrics for each fold\n",
    "    accuracy_list.append(accuracy_score(pred_classes, test_labels))\n",
    "    precision_list.append(precision_score( pred_classes,test_labels))\n",
    "    recall_list.append(recall_score(pred_classes,test_labels))\n",
    "    f1_list.append(f1_score(pred_classes,test_labels))\n"
   ]
  },
  {
   "cell_type": "code",
   "execution_count": 4,
   "metadata": {},
   "outputs": [
    {
     "name": "stdout",
     "output_type": "stream",
     "text": [
      "Mean Accuracy:  tensor(0.9414, device='cuda:0')\n",
      "Mean Precision:  tensor(0.8973, device='cuda:0')\n",
      "Mean Recall:  tensor(0.4933, device='cuda:0')\n",
      "Mean F1:  tensor(0.6365, device='cuda:0')\n"
     ]
    }
   ],
   "source": [
    "# Calculate and print the mean of metrics across all folds\n",
    "print(\"Mean Accuracy: \", sum(accuracy_list_train_bang_predict_delhi) / len(accuracy_list_train_bang_predict_delhi))\n",
    "print(\"Mean Precision: \", sum(precision_list_train_bang_predict_delhi) / len(precision_list_train_bang_predict_delhi))\n",
    "print(\"Mean Recall: \", sum(recall_list_train_bang_predict_delhi) / len(recall_list_train_bang_predict_delhi))\n",
    "print(\"Mean F1: \", sum(f1_list_train_bang_predict_delhi) / len(f1_list_train_bang_predict_delhi))"
   ]
  },
  {
   "cell_type": "code",
   "execution_count": 5,
   "metadata": {},
   "outputs": [
    {
     "name": "stdout",
     "output_type": "stream",
     "text": [
      "Mean Accuracy:  tensor(0.9780, device='cuda:0')\n",
      "Mean Precision:  tensor(0.9088, device='cuda:0')\n",
      "Mean Recall:  tensor(0.8762, device='cuda:0')\n",
      "Mean F1:  tensor(0.8921, device='cuda:0')\n"
     ]
    }
   ],
   "source": [
    "# Calculate and print the mean of metrics across all folds\n",
    "print(\"Mean Accuracy: \", sum(accuracy_list) / len(accuracy_list))\n",
    "print(\"Mean Precision: \", sum(precision_list) / len(precision_list))\n",
    "print(\"Mean Recall: \", sum(recall_list) / len(recall_list))\n",
    "print(\"Mean F1: \", sum(f1_list) / len(f1_list))"
   ]
  },
  {
   "cell_type": "code",
   "execution_count": null,
   "metadata": {},
   "outputs": [],
   "source": []
  },
  {
   "cell_type": "code",
   "execution_count": null,
   "metadata": {},
   "outputs": [],
   "source": []
  },
  {
   "cell_type": "code",
   "execution_count": null,
   "metadata": {},
   "outputs": [],
   "source": []
  }
 ],
 "metadata": {
  "kernelspec": {
   "display_name": "torch_gpu",
   "language": "python",
   "name": "python3"
  },
  "language_info": {
   "codemirror_mode": {
    "name": "ipython",
    "version": 3
   },
   "file_extension": ".py",
   "mimetype": "text/x-python",
   "name": "python",
   "nbconvert_exporter": "python",
   "pygments_lexer": "ipython3",
   "version": "3.10.12"
  }
 },
 "nbformat": 4,
 "nbformat_minor": 2
}
